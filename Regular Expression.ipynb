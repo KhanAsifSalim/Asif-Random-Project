{
 "cells": [
  {
   "cell_type": "code",
   "execution_count": 1,
   "id": "7887b711",
   "metadata": {},
   "outputs": [],
   "source": [
    "mesg=\"so the mesg is,022-234-4567, this is my home phone number call me whenever you get time and if it's comes bussy then try 022-567-7890\""
   ]
  },
  {
   "cell_type": "raw",
   "id": "4f0598dd",
   "metadata": {},
   "source": [
    "022-234-4567\n",
    "- phone \n",
    "is 12 digits\n",
    "- area code :- 3 digit number\n",
    "- first dash\n",
    "- 3 digit number\n",
    "- second dash\n",
    "- last 4 digit number"
   ]
  },
  {
   "cell_type": "code",
   "execution_count": 2,
   "id": "b7f7bd80",
   "metadata": {},
   "outputs": [
    {
     "data": {
      "text/plain": [
       "True"
      ]
     },
     "execution_count": 2,
     "metadata": {},
     "output_type": "execute_result"
    }
   ],
   "source": [
    "\"123\".isdecimal()"
   ]
  },
  {
   "cell_type": "code",
   "execution_count": 3,
   "id": "cc4be97e",
   "metadata": {},
   "outputs": [
    {
     "data": {
      "text/plain": [
       "False"
      ]
     },
     "execution_count": 3,
     "metadata": {},
     "output_type": "execute_result"
    }
   ],
   "source": [
    "\"abc\".isdecimal()"
   ]
  },
  {
   "cell_type": "code",
   "execution_count": 4,
   "id": "ae29e826",
   "metadata": {},
   "outputs": [
    {
     "data": {
      "text/plain": [
       "False"
      ]
     },
     "execution_count": 4,
     "metadata": {},
     "output_type": "execute_result"
    }
   ],
   "source": [
    "\"123abc\".isdecimal()"
   ]
  },
  {
   "cell_type": "code",
   "execution_count": 5,
   "id": "b7ec06e7",
   "metadata": {},
   "outputs": [],
   "source": [
    "no=\"022-234-4567\""
   ]
  },
  {
   "cell_type": "code",
   "execution_count": 6,
   "id": "1634b30c",
   "metadata": {},
   "outputs": [
    {
     "data": {
      "text/plain": [
       "False"
      ]
     },
     "execution_count": 6,
     "metadata": {},
     "output_type": "execute_result"
    }
   ],
   "source": [
    "no.isdecimal()"
   ]
  },
  {
   "cell_type": "code",
   "execution_count": 14,
   "id": "d6444ca1",
   "metadata": {},
   "outputs": [],
   "source": [
    "def isphonenum(text):\n",
    "    if(len(text)!=12):\n",
    "        return False\n",
    "    for i in range(0,3):\n",
    "        if(not text[i].isdecimal()):\n",
    "            return False\n",
    "    if(text[3]!=\"-\"):\n",
    "        return False\n",
    "    \n",
    "    for i in range(4,7):\n",
    "        if(not text[i].isdecimal()):\n",
    "            return False\n",
    "    if(text[7]!=\"-\"):\n",
    "        return False\n",
    "    \n",
    "    for i in range(8,12):\n",
    "        if(not text[i].isdecimal()):\n",
    "            return False\n",
    "    return True"
   ]
  },
  {
   "cell_type": "code",
   "execution_count": 15,
   "id": "5ebc8bbd",
   "metadata": {},
   "outputs": [
    {
     "data": {
      "text/plain": [
       "True"
      ]
     },
     "execution_count": 15,
     "metadata": {},
     "output_type": "execute_result"
    }
   ],
   "source": [
    "isphonenum(\"022-456-9876\")"
   ]
  },
  {
   "cell_type": "code",
   "execution_count": 16,
   "id": "db16dac7",
   "metadata": {},
   "outputs": [
    {
     "data": {
      "text/plain": [
       "False"
      ]
     },
     "execution_count": 16,
     "metadata": {},
     "output_type": "execute_result"
    }
   ],
   "source": [
    "mesg=\"so the mesg is,022-234-4567, this is my home phone number call me whenever you get time and if it's comes bussy then try 022-567-7890\"\n",
    "isphonenum(mesg)"
   ]
  },
  {
   "cell_type": "code",
   "execution_count": 18,
   "id": "8d12048d",
   "metadata": {},
   "outputs": [
    {
     "name": "stdout",
     "output_type": "stream",
     "text": [
      "so the mesg \n",
      "o the mesg i\n",
      " the mesg is\n",
      "the mesg is,\n",
      "he mesg is,0\n",
      "e mesg is,02\n",
      " mesg is,022\n",
      "mesg is,022-\n",
      "esg is,022-2\n",
      "sg is,022-23\n",
      "g is,022-234\n",
      " is,022-234-\n",
      "is,022-234-4\n",
      "s,022-234-45\n",
      ",022-234-456\n",
      "022-234-4567\n",
      "Phone Number Found:- 022-234-4567\n",
      "22-234-4567,\n",
      "2-234-4567, \n",
      "-234-4567, t\n",
      "234-4567, th\n",
      "34-4567, thi\n",
      "4-4567, this\n",
      "-4567, this \n",
      "4567, this i\n",
      "567, this is\n",
      "67, this is \n",
      "7, this is m\n",
      ", this is my\n",
      " this is my \n",
      "this is my h\n",
      "his is my ho\n",
      "is is my hom\n",
      "s is my home\n",
      " is my home \n",
      "is my home p\n",
      "s my home ph\n",
      " my home pho\n",
      "my home phon\n",
      "y home phone\n",
      " home phone \n",
      "home phone n\n",
      "ome phone nu\n",
      "me phone num\n",
      "e phone numb\n",
      " phone numbe\n",
      "phone number\n",
      "hone number \n",
      "one number c\n",
      "ne number ca\n",
      "e number cal\n",
      " number call\n",
      "number call \n",
      "umber call m\n",
      "mber call me\n",
      "ber call me \n",
      "er call me w\n",
      "r call me wh\n",
      " call me whe\n",
      "call me when\n",
      "all me whene\n",
      "ll me whenev\n",
      "l me wheneve\n",
      " me whenever\n",
      "me whenever \n",
      "e whenever y\n",
      " whenever yo\n",
      "whenever you\n",
      "henever you \n",
      "enever you g\n",
      "never you ge\n",
      "ever you get\n",
      "ver you get \n",
      "er you get t\n",
      "r you get ti\n",
      " you get tim\n",
      "you get time\n",
      "ou get time \n",
      "u get time a\n",
      " get time an\n",
      "get time and\n",
      "et time and \n",
      "t time and i\n",
      " time and if\n",
      "time and if \n",
      "ime and if i\n",
      "me and if it\n",
      "e and if it'\n",
      " and if it's\n",
      "and if it's \n",
      "nd if it's c\n",
      "d if it's co\n",
      " if it's com\n",
      "if it's come\n",
      "f it's comes\n",
      " it's comes \n",
      "it's comes b\n",
      "t's comes bu\n",
      "'s comes bus\n",
      "s comes buss\n",
      " comes bussy\n",
      "comes bussy \n",
      "omes bussy t\n",
      "mes bussy th\n",
      "es bussy the\n",
      "s bussy then\n",
      " bussy then \n",
      "bussy then t\n",
      "ussy then tr\n",
      "ssy then try\n",
      "sy then try \n",
      "y then try 0\n",
      " then try 02\n",
      "then try 022\n",
      "hen try 022-\n",
      "en try 022-5\n",
      "n try 022-56\n",
      " try 022-567\n",
      "try 022-567-\n",
      "ry 022-567-7\n",
      "y 022-567-78\n",
      " 022-567-789\n",
      "022-567-7890\n",
      "Phone Number Found:- 022-567-7890\n",
      "22-567-7890\n",
      "2-567-7890\n",
      "-567-7890\n",
      "567-7890\n",
      "67-7890\n",
      "7-7890\n",
      "-7890\n",
      "7890\n",
      "890\n",
      "90\n",
      "0\n"
     ]
    }
   ],
   "source": [
    "mesg=\"so the mesg is,022-234-4567, this is my home phone number call me whenever you get time and if it's comes bussy then try 022-567-7890\"\n",
    "\n",
    "foundnumber=False\n",
    "\n",
    "for i in range(len(mesg)):\n",
    "    chunk=mesg[i:i+12]\n",
    "    print(chunk)\n",
    "    \n",
    "    if(isphonenum(chunk)):\n",
    "        print(f\"Phone Number Found:- {chunk}\")\n",
    "        foundnumber=True\n",
    "if(not foundnumber):\n",
    "    print(f\"Phone Number Not Found:- {chunk}\")"
   ]
  },
  {
   "cell_type": "code",
   "execution_count": 19,
   "id": "ce77c4b8",
   "metadata": {},
   "outputs": [],
   "source": [
    "import re"
   ]
  },
  {
   "cell_type": "code",
   "execution_count": 30,
   "id": "d485cd00",
   "metadata": {},
   "outputs": [
    {
     "name": "stdout",
     "output_type": "stream",
     "text": [
      "Phone Number Found :- 022-987-3646\n",
      "Phone Number Found :- 000-786-9876\n"
     ]
    }
   ],
   "source": [
    "#022-987-3646\n",
    "#\\d\\d\\d-\\d\\d\\d-\\d\\d\\d\\d\n",
    "\n",
    "\n",
    "mesg=\"my phone number is 022-987-3646 and this 000-786-9876\"\n",
    "mesg1=\"000-786-9876\"\n",
    "#Step1 :- Define the pattern\n",
    "pattern=re.compile(r\"\\d\\d\\d-\\d\\d\\d-\\d\\d\\d\\d\")\n",
    "\n",
    "#Step2 :- Search for the pattern in the given string.\n",
    "mo=pattern.search(mesg)\n",
    "mo1=pattern.search(mesg1)\n",
    "\n",
    "#Step3:- use group method to see the match object\n",
    "print(f'Phone Number Found :- {mo.group()}')\n",
    "print(f'Phone Number Found :- {mo1.group()}')"
   ]
  },
  {
   "cell_type": "markdown",
   "id": "71987c4f",
   "metadata": {},
   "source": [
    "# we can do grouping using Round Bracket"
   ]
  },
  {
   "cell_type": "code",
   "execution_count": 31,
   "id": "b2dbca94",
   "metadata": {},
   "outputs": [
    {
     "data": {
      "text/plain": [
       "'022-987-3646'"
      ]
     },
     "execution_count": 31,
     "metadata": {},
     "output_type": "execute_result"
    }
   ],
   "source": [
    "pattern=re.compile(r\"(\\d\\d\\d)-(\\d\\d\\d)-(\\d\\d\\d\\d)\")\n",
    "mo=pattern.search(\"my phone number is 022-987-3646\")\n",
    "mo.group()\n"
   ]
  },
  {
   "cell_type": "code",
   "execution_count": 32,
   "id": "563571dd",
   "metadata": {},
   "outputs": [
    {
     "data": {
      "text/plain": [
       "'022-987-3646'"
      ]
     },
     "execution_count": 32,
     "metadata": {},
     "output_type": "execute_result"
    }
   ],
   "source": [
    "mo.group(0)"
   ]
  },
  {
   "cell_type": "code",
   "execution_count": 33,
   "id": "9309b0e1",
   "metadata": {},
   "outputs": [
    {
     "data": {
      "text/plain": [
       "'022'"
      ]
     },
     "execution_count": 33,
     "metadata": {},
     "output_type": "execute_result"
    }
   ],
   "source": [
    "mo.group(1)"
   ]
  },
  {
   "cell_type": "code",
   "execution_count": 34,
   "id": "ede56ab2",
   "metadata": {},
   "outputs": [
    {
     "data": {
      "text/plain": [
       "'987'"
      ]
     },
     "execution_count": 34,
     "metadata": {},
     "output_type": "execute_result"
    }
   ],
   "source": [
    "mo.group(2)"
   ]
  },
  {
   "cell_type": "code",
   "execution_count": 35,
   "id": "85fecc46",
   "metadata": {},
   "outputs": [
    {
     "data": {
      "text/plain": [
       "'3646'"
      ]
     },
     "execution_count": 35,
     "metadata": {},
     "output_type": "execute_result"
    }
   ],
   "source": [
    "mo.group(3)"
   ]
  },
  {
   "cell_type": "code",
   "execution_count": 38,
   "id": "8a879cf7",
   "metadata": {},
   "outputs": [
    {
     "data": {
      "text/plain": [
       "'2'"
      ]
     },
     "execution_count": 38,
     "metadata": {},
     "output_type": "execute_result"
    }
   ],
   "source": [
    "mo.group(1)[1]"
   ]
  },
  {
   "cell_type": "code",
   "execution_count": 41,
   "id": "1a044e3f",
   "metadata": {},
   "outputs": [
    {
     "data": {
      "text/plain": [
       "'4'"
      ]
     },
     "execution_count": 41,
     "metadata": {},
     "output_type": "execute_result"
    }
   ],
   "source": [
    "mo.group(3)[-2]"
   ]
  },
  {
   "cell_type": "code",
   "execution_count": 46,
   "id": "8a471624",
   "metadata": {},
   "outputs": [],
   "source": [
    "x=[1,2,3,[[4,5,6]],[4,5,6],10,11,[8,6,5]]"
   ]
  },
  {
   "cell_type": "code",
   "execution_count": 49,
   "id": "e1307292",
   "metadata": {},
   "outputs": [
    {
     "data": {
      "text/plain": [
       "6"
      ]
     },
     "execution_count": 49,
     "metadata": {},
     "output_type": "execute_result"
    }
   ],
   "source": [
    "x[3][0][2]"
   ]
  },
  {
   "cell_type": "code",
   "execution_count": null,
   "id": "99542765",
   "metadata": {},
   "outputs": [],
   "source": []
  }
 ],
 "metadata": {
  "kernelspec": {
   "display_name": "Python 3 (ipykernel)",
   "language": "python",
   "name": "python3"
  },
  "language_info": {
   "codemirror_mode": {
    "name": "ipython",
    "version": 3
   },
   "file_extension": ".py",
   "mimetype": "text/x-python",
   "name": "python",
   "nbconvert_exporter": "python",
   "pygments_lexer": "ipython3",
   "version": "3.9.7"
  }
 },
 "nbformat": 4,
 "nbformat_minor": 5
}
